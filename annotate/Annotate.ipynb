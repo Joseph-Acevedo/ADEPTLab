{
 "cells": [
  {
   "cell_type": "markdown",
   "metadata": {},
   "source": [
    "\n",
    "# Annotate documents for named entity recognition\n",
    "\n",
    "Select the document to tag and the output folder to save the annotations to.\n"
   ]
  },
  {
   "cell_type": "code",
   "execution_count": 1,
   "metadata": {
    "scrolled": true
   },
   "outputs": [
    {
     "name": "stdout",
     "output_type": "stream",
     "text": [
      "Document to tag (.txt file):\n"
     ]
    },
    {
     "data": {
      "application/vnd.jupyter.widget-view+json": {
       "model_id": "ee48b68820f6476fa9a2e4f0104ecc51",
       "version_major": 2,
       "version_minor": 0
      },
      "text/plain": [
       "FileChooser(path='/home/abertsch/projects/ADEPTLab/annotate', filename='', title='HTML(value='', layout=Layout…"
      ]
     },
     "metadata": {},
     "output_type": "display_data"
    },
    {
     "name": "stdout",
     "output_type": "stream",
     "text": [
      "Output folder to save annotations to:\n"
     ]
    },
    {
     "data": {
      "application/vnd.jupyter.widget-view+json": {
       "model_id": "5acd4860aace4764b0ae8734a7d9f452",
       "version_major": 2,
       "version_minor": 0
      },
      "text/plain": [
       "FileChooser(path='/home/abertsch/projects/ADEPTLab/annotate', filename='', title='HTML(value='', layout=Layout…"
      ]
     },
     "metadata": {},
     "output_type": "display_data"
    }
   ],
   "source": [
    "from src.notebook.file_chooser import choose\n",
    "choose()"
   ]
  },
  {
   "cell_type": "markdown",
   "metadata": {},
   "source": [
    "Now run the cell below to annotate the document! You can type a number (+enter) to label an entity, or just press enter to skip any words that are not entities."
   ]
  },
  {
   "cell_type": "code",
   "execution_count": 6,
   "metadata": {
    "scrolled": true
   },
   "outputs": [
    {
     "name": "stdout",
     "output_type": "stream",
     "text": [
      "Progress: [===       ] - 34% of 95 tokens\n",
      "TAG OPTIONS: (press enter to leave untagged, b to go back, p to save progress and exit)\n",
      "0 people, including fictional\t\t4 companies, institutions, etc.\n",
      "1 nationalities, religions\t\t5 countries, cities, states\n",
      "2 mountains, rivers, etc.\t\t6 events--named hurricanes, etc\n",
      "3 buildings, airports, etc.\t\t7 measurements (e.g. weight, distance)\n",
      "world, according to Swiss National  <<Tourism>>  Department spokesperson Jan Smith. The\n",
      "\tTAG? p\n",
      "THIS IS WHAT IS DUMPED:\n",
      "The: position 0, length 3, tag -1\n",
      "Alps: position 4, length 4, tag 2\n",
      "are: position 9, length 3, tag -1\n",
      "the: position 13, length 3, tag -1\n",
      "most: position 17, length 4, tag -1\n",
      "beautiful: position 22, length 9, tag -1\n",
      "mountains: position 32, length 9, tag -1\n",
      "in: position 42, length 2, tag -1\n",
      "the: position 45, length 3, tag -1\n",
      "world,: position 49, length 6, tag -1\n",
      "according: position 56, length 9, tag -1\n",
      "to: position 66, length 2, tag -1\n",
      "Swiss: position 66, length 5, tag 4\n",
      "National: position 72, length 8, tag 4\n",
      "Tourism: position 81, length 7, tag 4\n",
      "Department: position 89, length 10, tag 4\n",
      "spokesperson: position 100, length 12, tag -1\n",
      "Jan: position 113, length 3, tag 0\n",
      "Smith.\n",
      ": position 117, length 7, tag 0\n",
      "The: position 125, length 3, tag -1\n",
      "Alps: position 129, length 4, tag 2\n",
      "are: position 134, length 3, tag -1\n",
      "the: position 138, length 3, tag -1\n",
      "most: position 17, length 4, tag -1\n",
      "beautiful: position 22, length 9, tag -1\n",
      "mountains: position 32, length 9, tag -1\n",
      "in: position 42, length 2, tag -1\n",
      "the: position 45, length 3, tag -1\n",
      "world,: position 49, length 6, tag -1\n",
      "according: position 56, length 9, tag -1\n",
      "to: position 66, length 2, tag -1\n",
      "Swiss: position 69, length 5, tag -1\n",
      "National: position 75, length 8, tag 0\n",
      "Tourism: position 84, length 7, tag -1\n",
      "The annotation progress so far has been saved. To continue annotating this document, simply select the document as the input document again. The program will ask if you want to use this set of annotations\n",
      "\n",
      "True\n",
      "33\n",
      "95\n"
     ]
    }
   ],
   "source": [
    "from src.annotate import setup_doc, takedown, get_tag, not_done\n",
    "from IPython.display import clear_output\n",
    "    \n",
    "setup_doc()\n",
    "\n",
    "while(not_done()):    \n",
    "    clear_output(wait=True)\n",
    "    get_tag()\n",
    "    \n",
    "takedown()"
   ]
  },
  {
   "cell_type": "code",
   "execution_count": null,
   "metadata": {},
   "outputs": [],
   "source": []
  },
  {
   "cell_type": "code",
   "execution_count": null,
   "metadata": {},
   "outputs": [],
   "source": []
  }
 ],
 "metadata": {
  "kernelspec": {
   "display_name": "Python 3",
   "language": "python",
   "name": "python3"
  },
  "language_info": {
   "codemirror_mode": {
    "name": "ipython",
    "version": 3
   },
   "file_extension": ".py",
   "mimetype": "text/x-python",
   "name": "python",
   "nbconvert_exporter": "python",
   "pygments_lexer": "ipython3",
   "version": "3.9.1"
  }
 },
 "nbformat": 4,
 "nbformat_minor": 4
}
