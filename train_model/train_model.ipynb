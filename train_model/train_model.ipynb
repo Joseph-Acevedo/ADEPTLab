{
 "cells": [
  {
   "cell_type": "markdown",
   "metadata": {},
   "source": [
    "# Train your own named entity recognition (NER) tagger!"
   ]
  },
  {
   "cell_type": "code",
   "execution_count": 14,
   "metadata": {},
   "outputs": [
    {
     "name": "stdout",
     "output_type": "stream",
     "text": [
      "Folder containing annotated data:\n"
     ]
    },
    {
     "data": {
      "application/vnd.jupyter.widget-view+json": {
       "model_id": "5833a1c3660c48deae2887f72a4fc349",
       "version_major": 2,
       "version_minor": 0
      },
      "text/plain": [
       "FileChooser(path='/home/abertsch/git/ADEPTLab/train_model', filename='', title='HTML(value='', layout=Layout(d…"
      ]
     },
     "metadata": {},
     "output_type": "display_data"
    },
    {
     "name": "stdout",
     "output_type": "stream",
     "text": [
      "Output folder to save model to:\n"
     ]
    },
    {
     "data": {
      "application/vnd.jupyter.widget-view+json": {
       "model_id": "08bbbf84f0c14002bd9da7f30cdfb431",
       "version_major": 2,
       "version_minor": 0
      },
      "text/plain": [
       "FileChooser(path='/home/abertsch/git/ADEPTLab/train_model', filename='', title='HTML(value='', layout=Layout(d…"
      ]
     },
     "metadata": {},
     "output_type": "display_data"
    }
   ],
   "source": [
    "from ipyfilechooser import FileChooser\n",
    "\n",
    "output_loc = FileChooser()\n",
    "model_loc = FileChooser()\n",
    "print(\"Folder containing annotated data:\")\n",
    "display(output_loc)\n",
    "print(\"Output folder to save model to:\")\n",
    "display(model_loc)"
   ]
  },
  {
   "cell_type": "code",
   "execution_count": 16,
   "metadata": {},
   "outputs": [
    {
     "name": "stdout",
     "output_type": "stream",
     "text": [
      "/home/abertsch/git/ADEPTLab/train_model/annotation_output/\n",
      "Loaded model '<spacy.lang.en.English object at 0x7fbad24decf8>'\n",
      "Losses {'ner': 3.0061467324088786}\n",
      "Losses {'ner': 6.715712488227903}\n",
      "Losses {'ner': 7.450672008528413}\n",
      "Losses {'ner': 2.0756049979557876}\n",
      "Losses {'ner': 2.5073138158854045}\n",
      "Losses {'ner': 2.2507164908907957}\n",
      "Losses {'ner': 3.4004479991156615}\n",
      "Losses {'ner': 5.846011192037319}\n",
      "Losses {'ner': 0.39725696602244204}\n",
      "Losses {'ner': 1.2830942585999159}\n",
      "Losses {'ner': 0.2728405249562995}\n",
      "Losses {'ner': 1.7581866450738288}\n",
      "Losses {'ner': 0.7537518013958238}\n",
      "Losses {'ner': 0.5571307507796313}\n",
      "Losses {'ner': 0.0363481475651772}\n",
      "Losses {'ner': 4.698338135107122}\n",
      "Losses {'ner': 0.3510542106132546}\n",
      "Losses {'ner': 1.2461704465250842}\n",
      "Losses {'ner': 0.10661675678173177}\n",
      "Losses {'ner': 0.1524713394813213}\n",
      "Losses {'ner': 0.0007735373922897141}\n",
      "Losses {'ner': 0.04019856741041587}\n",
      "Losses {'ner': 0.0007208228026050394}\n",
      "Losses {'ner': 0.0064453982506964625}\n",
      "Losses {'ner': 4.715226438870533e-05}\n",
      "Losses {'ner': 0.012833115764870283}\n",
      "Losses {'ner': 1.7470975865909162}\n",
      "Losses {'ner': 0.28574315378092646}\n",
      "Losses {'ner': 8.430636127465074e-05}\n",
      "Losses {'ner': 0.00022660503554021257}\n",
      "Losses {'ner': 0.0033681060685145955}\n",
      "Losses {'ner': 0.012080422501653084}\n",
      "Losses {'ner': 0.00011131241163714877}\n",
      "Losses {'ner': 0.06114388782580329}\n",
      "Losses {'ner': 0.003371425850539982}\n",
      "Losses {'ner': 0.00397818495633004}\n",
      "Losses {'ner': 2.385757541311336e-05}\n",
      "Losses {'ner': 1.1275761407533114e-05}\n",
      "Losses {'ner': 0.7896039092087288}\n",
      "Losses {'ner': 0.10606468918434142}\n",
      "Losses {'ner': 0.009280757886185756}\n",
      "Losses {'ner': 0.0003362332072433011}\n",
      "Losses {'ner': 0.0011745842479964324}\n",
      "Losses {'ner': 0.02470707495488013}\n",
      "Losses {'ner': 0.13778265638053483}\n",
      "Losses {'ner': 2.4582394740460844}\n",
      "Losses {'ner': 3.84186146069588e-05}\n",
      "Losses {'ner': 0.007133869023233479}\n",
      "Losses {'ner': 0.005096550392472053}\n",
      "Losses {'ner': 0.0004290578669152189}\n",
      "Losses {'ner': 8.339353334687293e-06}\n",
      "Losses {'ner': 3.1808949069905803e-06}\n",
      "Losses {'ner': 1.0346004451358148e-05}\n",
      "Losses {'ner': 2.9106882150193675e-06}\n",
      "Losses {'ner': 0.0005085757578786824}\n",
      "Losses {'ner': 0.003783416241798432}\n",
      "Losses {'ner': 2.1292970743627878e-07}\n",
      "Losses {'ner': 0.004236988346836858}\n",
      "Losses {'ner': 9.325060456256165e-09}\n",
      "Losses {'ner': 3.688663497964868e-07}\n",
      "Losses {'ner': 0.0005530423334105704}\n",
      "Losses {'ner': 1.9647006223289173e-07}\n",
      "Losses {'ner': 4.016157379222142e-06}\n",
      "Losses {'ner': 1.7060005900805195e-06}\n",
      "Losses {'ner': 8.189145806409139e-07}\n",
      "Losses {'ner': 1.3360018707846774e-05}\n",
      "Losses {'ner': 1.494848504848196e-08}\n",
      "Losses {'ner': 8.451025699861826e-06}\n",
      "Losses {'ner': 0.10339698411639664}\n",
      "Losses {'ner': 3.091100673387318e-06}\n",
      "Losses {'ner': 3.199116745256197e-07}\n",
      "Losses {'ner': 2.5936670379786737e-08}\n",
      "Losses {'ner': 1.851947587797938e-05}\n",
      "Losses {'ner': 2.1423347364653567e-08}\n",
      "Losses {'ner': 0.0003552724595631796}\n",
      "Losses {'ner': 0.0028509566562403307}\n",
      "Losses {'ner': 2.9212819212990056e-07}\n",
      "Losses {'ner': 1.7397575400277058e-08}\n",
      "Losses {'ner': 4.0574040874175e-09}\n",
      "Losses {'ner': 3.102549977440334e-06}\n",
      "Losses {'ner': 7.52805042891886e-09}\n",
      "Losses {'ner': 4.913844860161161e-07}\n",
      "Losses {'ner': 4.893981165037918e-07}\n",
      "Losses {'ner': 5.5520387707568664e-09}\n",
      "Losses {'ner': 2.271635323674422e-05}\n",
      "Losses {'ner': 0.0007477827402703229}\n",
      "Losses {'ner': 4.586611982243777e-06}\n",
      "Losses {'ner': 1.5252266306396183e-07}\n",
      "Losses {'ner': 1.9871400286274945e-05}\n",
      "Losses {'ner': 3.5795616779323306e-05}\n",
      "Losses {'ner': 0.006001629907316328}\n",
      "Losses {'ner': 7.211058186936639e-07}\n",
      "Losses {'ner': 0.014804022369932411}\n",
      "Losses {'ner': 6.932168921106264e-06}\n",
      "Losses {'ner': 3.559612883602651e-07}\n",
      "Losses {'ner': 0.00012468950058587636}\n",
      "Losses {'ner': 1.0550734288537989e-07}\n",
      "Losses {'ner': 1.533478807738333e-07}\n",
      "Losses {'ner': 4.188206889869138e-09}\n",
      "Losses {'ner': 8.582595483243687e-06}\n",
      "Entities [('Alps', 'LOC'), ('Swiss National Tourism Department', 'ORG'), ('Jan Smith', 'PERSON')]\n",
      "Tokens [(' ', '', 2), ('The', '', 2), ('Alps', 'LOC', 3), ('are', '', 2), ('the', '', 2), ('most', '', 2), ('beautiful', '', 2), ('mountains', '', 2), ('in', '', 2), ('the', '', 2), ('world', '', 2), (',', '', 2), ('according', '', 2), ('to', '', 2), ('Swiss', 'ORG', 3), ('National', 'ORG', 1), ('Tourism', 'ORG', 1), ('Department', 'ORG', 1), ('spokesperson', '', 2), ('Jan', 'PERSON', 3), ('Smith', 'PERSON', 1), ('.', '', 2)]\n",
      "Saved model to /home/abertsch/git/ADEPTLab/train_model/model_output\n",
      "Loading from /home/abertsch/git/ADEPTLab/train_model/model_output\n",
      "Entities [('Alps', 'LOC'), ('Swiss National Tourism Department', 'ORG'), ('Jan Smith', 'PERSON')]\n",
      "Tokens [(' ', '', 2), ('The', '', 2), ('Alps', 'LOC', 3), ('are', '', 2), ('the', '', 2), ('most', '', 2), ('beautiful', '', 2), ('mountains', '', 2), ('in', '', 2), ('the', '', 2), ('world', '', 2), (',', '', 2), ('according', '', 2), ('to', '', 2), ('Swiss', 'ORG', 3), ('National', 'ORG', 1), ('Tourism', 'ORG', 1), ('Department', 'ORG', 1), ('spokesperson', '', 2), ('Jan', 'PERSON', 3), ('Smith', 'PERSON', 1), ('.', '', 2)]\n"
     ]
    }
   ],
   "source": [
    "!python3 update_ner_model.py $output_loc.selected $model_loc.selected"
   ]
  }
 ],
 "metadata": {
  "kernelspec": {
   "display_name": "Python 3",
   "language": "python",
   "name": "python3"
  },
  "language_info": {
   "codemirror_mode": {
    "name": "ipython",
    "version": 3
   },
   "file_extension": ".py",
   "mimetype": "text/x-python",
   "name": "python",
   "nbconvert_exporter": "python",
   "pygments_lexer": "ipython3",
   "version": "3.8.6"
  }
 },
 "nbformat": 4,
 "nbformat_minor": 4
}
